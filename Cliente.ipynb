{
 "cells": [
  {
   "cell_type": "code",
   "execution_count": null,
   "metadata": {},
   "outputs": [],
   "source": [
    "import socket\n",
    "HOST = '10.0.0.248'     # Endereco IP do Servidor\n",
    "PORT = 5000            # Porta que o Servidor esta\n",
    "tcp = socket.socket(socket.AF_INET, socket.SOCK_STREAM)\n",
    "dest = (HOST, PORT)\n",
    "tcp.connect(dest)\n",
    "print ('Para sair use CTRL+X')\n",
    "msg = input()\n",
    "tcp.send (msg.encode('utf-8'))\n",
    "msg = input()\n",
    "con.rec \n",
    "tcp.close()"
   ]
  },
  {
   "cell_type": "code",
   "execution_count": null,
   "metadata": {},
   "outputs": [],
   "source": []
  },
  {
   "cell_type": "code",
   "execution_count": null,
   "metadata": {},
   "outputs": [],
   "source": []
  }
 ],
 "metadata": {
  "kernelspec": {
   "display_name": "Python 3",
   "language": "python",
   "name": "python3"
  },
  "language_info": {
   "codemirror_mode": {
    "name": "ipython",
    "version": 3
   },
   "file_extension": ".py",
   "mimetype": "text/x-python",
   "name": "python",
   "nbconvert_exporter": "python",
   "pygments_lexer": "ipython3",
   "version": "3.6.4"
  }
 },
 "nbformat": 4,
 "nbformat_minor": 2
}
