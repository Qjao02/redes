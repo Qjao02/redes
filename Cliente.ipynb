{
 "cells": [
  {
   "cell_type": "code",
   "execution_count": null,
   "metadata": {},
   "outputs": [],
   "source": [
    "import socket\n",
    "\n",
    "url = input()\n",
    "\n",
    "extensionFile = open('servConfig/extension.txt','r')\n",
    "extensionDict = {}\n",
    "for line in extensionFile:\n",
    "    keyValue = line.split()\n",
    "    extensionDict[keyValue[1]] = keyValue[0]\n",
    "    "
   ]
  },
  {
   "cell_type": "code",
   "execution_count": null,
   "metadata": {},
   "outputs": [],
   "source": [
    "if url.find('/') < 0:\n",
    "    url = url + '/'\n",
    "    "
   ]
  },
  {
   "cell_type": "code",
   "execution_count": null,
   "metadata": {},
   "outputs": [],
   "source": [
    "indexOf = url.find('/')\n",
    "host = url[:indexOf]\n",
    "getOperation = url[indexOf:]"
   ]
  },
  {
   "cell_type": "code",
   "execution_count": null,
   "metadata": {},
   "outputs": [],
   "source": [
    "fileExtension = ''"
   ]
  },
  {
   "cell_type": "code",
   "execution_count": null,
   "metadata": {},
   "outputs": [],
   "source": [
    "\n",
    "if(getOperation == '/'):\n",
    "    fileExtension = '.html'\n",
    "\n",
    "    \n",
    "else:\n",
    "    indexOfPoint = getOperation.rfind('.')\n",
    "    if (indexOfPoint < 0):\n",
    "        fileExtension = '.html'\n",
    "    else:\n",
    "        fileExtension = getOperation[indexOfPoint:]\n",
    "\n",
    "operation = 'GET ' + getOperation+ ' HTTP/1.1\\r\\n'\n",
    "\n",
    "request = {\n",
    "    'Host: ' : host,\n",
    "    'Connection: ' : 'keep-alive',\n",
    "    'Upgrade-Insecure-Requests: ' : '1',\n",
    "    'User-Agent: ' : 'jaoClient',\n",
    "    'Acept-Encoding: ' : 'gzir, deflate, br',\n",
    "    'Accept-Language: ' : 'en-US,en;q=0.9,pt-BR;q=0.8,pt;q=0.7',\n",
    "}"
   ]
  },
  {
   "cell_type": "code",
   "execution_count": null,
   "metadata": {},
   "outputs": [],
   "source": [
    "HOST = host.split(':')[0]\n",
    "try :\n",
    "    PORT = host.split(':')[1]\n",
    "except:\n",
    "    PORT = 80\n",
    "    \n",
    "addr = ((HOST,int(PORT)))"
   ]
  },
  {
   "cell_type": "code",
   "execution_count": null,
   "metadata": {},
   "outputs": [],
   "source": [
    "client_socket = socket.socket(socket.AF_INET, socket.SOCK_STREAM) \n",
    "client_socket.connect(addr)"
   ]
  },
  {
   "cell_type": "code",
   "execution_count": null,
   "metadata": {},
   "outputs": [],
   "source": [
    "stringRequest = operation\n",
    "for k,v in request.items():\n",
    "    stringRequest = stringRequest+ k + v + '\\n'"
   ]
  },
  {
   "cell_type": "code",
   "execution_count": null,
   "metadata": {},
   "outputs": [],
   "source": [
    "client_socket.send(stringRequest.encode()) "
   ]
  },
  {
   "cell_type": "code",
   "execution_count": null,
   "metadata": {},
   "outputs": [],
   "source": [
    "total_data=[]\n",
    "while True:\n",
    "    data = client_socket.recv(8192)\n",
    "    if not data: break\n",
    "    total_data.append(data)\n",
    "response = b''.join(total_data)"
   ]
  },
  {
   "cell_type": "code",
   "execution_count": null,
   "metadata": {},
   "outputs": [],
   "source": [
    "header = response.decode(errors=\"ignore\")\n",
    "header = header[:header.rfind('\\r\\n\\r\\n')]"
   ]
  },
  {
   "cell_type": "code",
   "execution_count": null,
   "metadata": {},
   "outputs": [],
   "source": [
    "headerSplit = header.split('\\r\\n')\n",
    "status = headerSplit[0]\n",
    "del(headerSplit[0])\n",
    "print(status)\n",
    "\n",
    "headerDict = {}\n",
    "for line in headerSplit:\n",
    "    keyValue = line.split(': ')\n",
    "    try:\n",
    "        headerDict[keyValue[0]] = keyValue[1]\n",
    "    except:\n",
    "        break"
   ]
  },
  {
   "cell_type": "code",
   "execution_count": null,
   "metadata": {},
   "outputs": [],
   "source": [
    "saveBinFile = response[len(header)+4:]"
   ]
  },
  {
   "cell_type": "code",
   "execution_count": null,
   "metadata": {},
   "outputs": [],
   "source": [
    "if getOperation == '/':\n",
    "    fileName= 'Index'\n",
    "else:\n",
    "    indexOfLBar = getOperation.rfind('/')\n",
    "    fileName = getOperation[indexOfLBar:indexOfPoint]\n",
    "    "
   ]
  },
  {
   "cell_type": "code",
   "execution_count": null,
   "metadata": {},
   "outputs": [],
   "source": [
    "downloadPath = 'downloads/' + fileName + fileExtension"
   ]
  },
  {
   "cell_type": "code",
   "execution_count": null,
   "metadata": {},
   "outputs": [],
   "source": [
    "fileName"
   ]
  },
  {
   "cell_type": "code",
   "execution_count": null,
   "metadata": {},
   "outputs": [],
   "source": [
    "if status.split()[1] == '200':\n",
    "    download = None \n",
    "    if headerDict['Content-Type'] != 'text/html':\n",
    "        download = open(downloadPath,'wb')\n",
    "        download.write(saveBinFile)\n",
    "        download.close()\n",
    "    else:\n",
    "        download = open(downloadPath,'w')\n",
    "        decodeFile = saveBinFile.decode()\n",
    "        download.write(decodeFile)\n",
    "        download.close()\n",
    "else:\n",
    "    print('erro ao processar a requisição do arquivo')\n",
    "   "
   ]
  },
  {
   "cell_type": "code",
   "execution_count": null,
   "metadata": {},
   "outputs": [],
   "source": []
  },
  {
   "cell_type": "code",
   "execution_count": null,
   "metadata": {},
   "outputs": [],
   "source": []
  }
 ],
 "metadata": {
  "kernelspec": {
   "display_name": "Python 3",
   "language": "python",
   "name": "python3"
  },
  "language_info": {
   "codemirror_mode": {
    "name": "ipython",
    "version": 3
   },
   "file_extension": ".py",
   "mimetype": "text/x-python",
   "name": "python",
   "nbconvert_exporter": "python",
   "pygments_lexer": "ipython3",
   "version": "3.6.4"
  }
 },
 "nbformat": 4,
 "nbformat_minor": 2
}
