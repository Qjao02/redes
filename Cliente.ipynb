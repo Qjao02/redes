{
 "cells": [
  {
   "cell_type": "code",
   "execution_count": 1,
   "metadata": {},
   "outputs": [
    {
     "name": "stdout",
     "output_type": "stream",
     "text": [
      "10.0.0.248:7000/testFolder\n"
     ]
    }
   ],
   "source": [
    "import socket\n",
    "\n",
    "url = input()\n",
    "\n",
    "extensionFile = open('servConfig/extension.txt','r')\n",
    "extensionDict = {}\n",
    "for line in extensionFile:\n",
    "    keyValue = line.split()\n",
    "    extensionDict[keyValue[1]] = keyValue[0]\n",
    "    "
   ]
  },
  {
   "cell_type": "code",
   "execution_count": 2,
   "metadata": {},
   "outputs": [],
   "source": [
    "if url.find('/') < 0:\n",
    "    url = url + '/'\n",
    "    "
   ]
  },
  {
   "cell_type": "code",
   "execution_count": 3,
   "metadata": {},
   "outputs": [],
   "source": [
    "indexOf = url.find('/')\n",
    "host = url[:indexOf]\n",
    "getOperation = url[indexOf:]"
   ]
  },
  {
   "cell_type": "code",
   "execution_count": 4,
   "metadata": {},
   "outputs": [],
   "source": [
    "\n",
    "fileExtension = ''\n"
   ]
  },
  {
   "cell_type": "code",
   "execution_count": 5,
   "metadata": {},
   "outputs": [
    {
     "data": {
      "text/plain": [
       "'10.0.0.248:7000'"
      ]
     },
     "execution_count": 5,
     "metadata": {},
     "output_type": "execute_result"
    }
   ],
   "source": [
    "host"
   ]
  },
  {
   "cell_type": "code",
   "execution_count": 6,
   "metadata": {},
   "outputs": [
    {
     "data": {
      "text/plain": [
       "'/testFolder'"
      ]
     },
     "execution_count": 6,
     "metadata": {},
     "output_type": "execute_result"
    }
   ],
   "source": [
    "getOperation"
   ]
  },
  {
   "cell_type": "code",
   "execution_count": null,
   "metadata": {},
   "outputs": [],
   "source": []
  },
  {
   "cell_type": "code",
   "execution_count": null,
   "metadata": {},
   "outputs": [],
   "source": []
  },
  {
   "cell_type": "code",
   "execution_count": 7,
   "metadata": {},
   "outputs": [],
   "source": [
    "\n",
    "if(getOperation == '/'):\n",
    "    fileExtension = '.html'\n",
    "\n",
    "    \n",
    "else:\n",
    "    indexOfPoint = getOperation.rfind('.')\n",
    "    if (indexOfPoint < 0):\n",
    "        fileExtension = '.html'\n",
    "    else:\n",
    "        fileExtension = getOperation[indexOfPoint:]\n",
    "\n",
    "operation = 'GET ' + getOperation+ ' HTTP/1.1\\r\\n'\n",
    "\n",
    "request = {\n",
    "    'Host: ' : host,\n",
    "    'Connection: ' : 'keep-alive',\n",
    "    'Upgrade-Insecure-Requests: ' : '1',\n",
    "    'User-Agent: ' : 'jaoClient',\n",
    "    'Acept-Encoding: ' : 'gzir, deflate, br',\n",
    "    'Accept-Language: ' : 'en-US,en;q=0.9,pt-BR;q=0.8,pt;q=0.7',\n",
    "}"
   ]
  },
  {
   "cell_type": "code",
   "execution_count": 8,
   "metadata": {},
   "outputs": [
    {
     "data": {
      "text/plain": [
       "'.html'"
      ]
     },
     "execution_count": 8,
     "metadata": {},
     "output_type": "execute_result"
    }
   ],
   "source": [
    "fileExtension"
   ]
  },
  {
   "cell_type": "code",
   "execution_count": 9,
   "metadata": {},
   "outputs": [
    {
     "data": {
      "text/plain": [
       "'GET /testFolder HTTP/1.1\\r\\n'"
      ]
     },
     "execution_count": 9,
     "metadata": {},
     "output_type": "execute_result"
    }
   ],
   "source": [
    "operation"
   ]
  },
  {
   "cell_type": "code",
   "execution_count": 10,
   "metadata": {},
   "outputs": [],
   "source": [
    "HOST = host.split(':')[0]\n",
    "try :\n",
    "    PORT = host.split(':')[1]\n",
    "except:\n",
    "    PORT = 80\n",
    "    \n",
    "addr = ((HOST,int(PORT)))"
   ]
  },
  {
   "cell_type": "code",
   "execution_count": 11,
   "metadata": {},
   "outputs": [
    {
     "data": {
      "text/plain": [
       "'10.0.0.248'"
      ]
     },
     "execution_count": 11,
     "metadata": {},
     "output_type": "execute_result"
    }
   ],
   "source": [
    "HOST"
   ]
  },
  {
   "cell_type": "code",
   "execution_count": 12,
   "metadata": {},
   "outputs": [
    {
     "data": {
      "text/plain": [
       "'7000'"
      ]
     },
     "execution_count": 12,
     "metadata": {},
     "output_type": "execute_result"
    }
   ],
   "source": [
    "PORT"
   ]
  },
  {
   "cell_type": "code",
   "execution_count": 13,
   "metadata": {},
   "outputs": [],
   "source": [
    "client_socket = socket.socket(socket.AF_INET, socket.SOCK_STREAM) \n",
    "client_socket.connect(addr)"
   ]
  },
  {
   "cell_type": "code",
   "execution_count": 14,
   "metadata": {},
   "outputs": [],
   "source": [
    "stringRequest = operation\n",
    "for k,v in request.items():\n",
    "    stringRequest = stringRequest+ k + v + '\\n'"
   ]
  },
  {
   "cell_type": "code",
   "execution_count": 15,
   "metadata": {},
   "outputs": [
    {
     "data": {
      "text/plain": [
       "'GET /testFolder HTTP/1.1\\r\\nHost: 10.0.0.248:7000\\nConnection: keep-alive\\nUpgrade-Insecure-Requests: 1\\nUser-Agent: jaoClient\\nAcept-Encoding: gzir, deflate, br\\nAccept-Language: en-US,en;q=0.9,pt-BR;q=0.8,pt;q=0.7\\n'"
      ]
     },
     "execution_count": 15,
     "metadata": {},
     "output_type": "execute_result"
    }
   ],
   "source": [
    "stringRequest"
   ]
  },
  {
   "cell_type": "code",
   "execution_count": 16,
   "metadata": {},
   "outputs": [
    {
     "data": {
      "text/plain": [
       "209"
      ]
     },
     "execution_count": 16,
     "metadata": {},
     "output_type": "execute_result"
    }
   ],
   "source": [
    "client_socket.send(stringRequest.encode()) "
   ]
  },
  {
   "cell_type": "code",
   "execution_count": 17,
   "metadata": {},
   "outputs": [],
   "source": [
    "total_data=[]\n",
    "while True:\n",
    "    data = client_socket.recv(8192)\n",
    "    if not data: break\n",
    "    total_data.append(data)\n",
    "response = b''.join(total_data)"
   ]
  },
  {
   "cell_type": "code",
   "execution_count": 18,
   "metadata": {},
   "outputs": [
    {
     "data": {
      "text/plain": [
       "b'\\nHTTP/1.1 200 ok! \\nLocation: http://localhost:7000/\\r\\ndate: 2018-04-09 07:48:48.017289\\r\\nServer: jaoserver\\r\\nContent-Type: text/html\\r\\nContent-Length: 343\\r\\n\\r\\n<html><head><title>listDir</title></head><body><h1>MUTHERFUCKER PAGES</H1><a href=\"/testFolder/certificado.pdf\">certificado.pdf</a><br><a href=\"/testFolder/Mort.html\">Mort.html</a><br><a href=\"/testFolder/Mort.jpg\">Mort.jpg</a><br><a href=\"/testFolder/Mort.png\">Mort.png</a><br><a href=\"/testFolder/plugin.xml\">plugin.xml</a><br></body></html>'"
      ]
     },
     "execution_count": 18,
     "metadata": {},
     "output_type": "execute_result"
    }
   ],
   "source": [
    "response"
   ]
  },
  {
   "cell_type": "code",
   "execution_count": 19,
   "metadata": {},
   "outputs": [],
   "source": [
    "header = response.decode(errors=\"ignore\")\n",
    "header = header[:header.rfind('\\r\\n\\r\\n')]"
   ]
  },
  {
   "cell_type": "code",
   "execution_count": 20,
   "metadata": {},
   "outputs": [
    {
     "name": "stdout",
     "output_type": "stream",
     "text": [
      "\n",
      "HTTP/1.1 200 ok! \n",
      "Location: http://localhost:7000/\n"
     ]
    }
   ],
   "source": [
    "headerSplit = header.split('\\r\\n')\n",
    "status = headerSplit[0]\n",
    "del(headerSplit[0])\n",
    "print(status)\n",
    "\n",
    "headerDict = {}\n",
    "for line in headerSplit:\n",
    "    keyValue = line.split(': ')\n",
    "    try:\n",
    "        headerDict[keyValue[0]] = keyValue[1]\n",
    "    except:\n",
    "        break"
   ]
  },
  {
   "cell_type": "code",
   "execution_count": 21,
   "metadata": {},
   "outputs": [
    {
     "data": {
      "text/plain": [
       "{'Content-Length': '343',\n",
       " 'Content-Type': 'text/html',\n",
       " 'Server': 'jaoserver',\n",
       " 'date': '2018-04-09 07:48:48.017289'}"
      ]
     },
     "execution_count": 21,
     "metadata": {},
     "output_type": "execute_result"
    }
   ],
   "source": [
    "headerDict"
   ]
  },
  {
   "cell_type": "code",
   "execution_count": 22,
   "metadata": {},
   "outputs": [],
   "source": [
    "saveBinFile = response[len(header)+4:]"
   ]
  },
  {
   "cell_type": "code",
   "execution_count": 23,
   "metadata": {},
   "outputs": [
    {
     "data": {
      "text/plain": [
       "b'<html><head><title>listDir</title></head><body><h1>MUTHERFUCKER PAGES</H1><a href=\"/testFolder/certificado.pdf\">certificado.pdf</a><br><a href=\"/testFolder/Mort.html\">Mort.html</a><br><a href=\"/testFolder/Mort.jpg\">Mort.jpg</a><br><a href=\"/testFolder/Mort.png\">Mort.png</a><br><a href=\"/testFolder/plugin.xml\">plugin.xml</a><br></body></html>'"
      ]
     },
     "execution_count": 23,
     "metadata": {},
     "output_type": "execute_result"
    }
   ],
   "source": [
    "saveBinFile"
   ]
  },
  {
   "cell_type": "code",
   "execution_count": 24,
   "metadata": {},
   "outputs": [],
   "source": [
    "if getOperation == '/':\n",
    "    fileName= 'Index'\n",
    "else:\n",
    "    indexOfLBar = getOperation.rfind('/')\n",
    "    fileName = getOperation[indexOfLBar:indexOfPoint]\n",
    "    "
   ]
  },
  {
   "cell_type": "code",
   "execution_count": 25,
   "metadata": {},
   "outputs": [],
   "source": [
    "downloadPath = 'downloads/' + fileName + fileExtension"
   ]
  },
  {
   "cell_type": "code",
   "execution_count": 26,
   "metadata": {},
   "outputs": [
    {
     "data": {
      "text/plain": [
       "b'<html><head><title>listDir</title></head><body><h1>MUTHERFUCKER PAGES</H1><a href=\"/testFolder/certificado.pdf\">certificado.pdf</a><br><a href=\"/testFolder/Mort.html\">Mort.html</a><br><a href=\"/testFolder/Mort.jpg\">Mort.jpg</a><br><a href=\"/testFolder/Mort.png\">Mort.png</a><br><a href=\"/testFolder/plugin.xml\">plugin.xml</a><br></body></html>'"
      ]
     },
     "execution_count": 26,
     "metadata": {},
     "output_type": "execute_result"
    }
   ],
   "source": [
    "saveBinFile"
   ]
  },
  {
   "cell_type": "code",
   "execution_count": 27,
   "metadata": {},
   "outputs": [
    {
     "data": {
      "text/plain": [
       "'<html><head><title>listDir</title></head><body><h1>MUTHERFUCKER PAGES</H1><a href=\"/testFolder/certificado.pdf\">certificado.pdf</a><br><a href=\"/testFolder/Mort.html\">Mort.html</a><br><a href=\"/testFolder/Mort.jpg\">Mort.jpg</a><br><a href=\"/testFolder/Mort.png\">Mort.png</a><br><a href=\"/testFolder/plugin.xml\">plugin.xml</a><br></body></html>'"
      ]
     },
     "execution_count": 27,
     "metadata": {},
     "output_type": "execute_result"
    }
   ],
   "source": [
    "saveBinFile.decode()"
   ]
  },
  {
   "cell_type": "code",
   "execution_count": 28,
   "metadata": {},
   "outputs": [
    {
     "data": {
      "text/plain": [
       "'/testFolde'"
      ]
     },
     "execution_count": 28,
     "metadata": {},
     "output_type": "execute_result"
    }
   ],
   "source": [
    "fileName"
   ]
  },
  {
   "cell_type": "code",
   "execution_count": 29,
   "metadata": {},
   "outputs": [],
   "source": [
    "if status.split()[1] == '200':\n",
    "    download = None \n",
    "    if headerDict['Content-Type'] != 'text/html':\n",
    "        download = open(downloadPath,'wb')\n",
    "        download.write(saveBinFile)\n",
    "        download.close()\n",
    "    else:\n",
    "        download = open(downloadPath,'w')\n",
    "        decodeFile = saveBinFile.decode()\n",
    "        download.write(decodeFile)\n",
    "        download.close()\n",
    "else:\n",
    "    print('erro ao processar a requisição do arquivo')\n",
    "   "
   ]
  },
  {
   "cell_type": "code",
   "execution_count": null,
   "metadata": {},
   "outputs": [],
   "source": []
  },
  {
   "cell_type": "code",
   "execution_count": null,
   "metadata": {},
   "outputs": [],
   "source": []
  }
 ],
 "metadata": {
  "kernelspec": {
   "display_name": "Python 3",
   "language": "python",
   "name": "python3"
  },
  "language_info": {
   "codemirror_mode": {
    "name": "ipython",
    "version": 3
   },
   "file_extension": ".py",
   "mimetype": "text/x-python",
   "name": "python",
   "nbconvert_exporter": "python",
   "pygments_lexer": "ipython3",
   "version": "3.6.4"
  }
 },
 "nbformat": 4,
 "nbformat_minor": 2
}
