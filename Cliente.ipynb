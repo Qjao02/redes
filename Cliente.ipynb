{
 "cells": [
  {
   "cell_type": "code",
   "execution_count": 1,
   "metadata": {},
   "outputs": [
    {
     "name": "stdout",
     "output_type": "stream",
     "text": [
      "172.18.2.64:8000/tp1.txt\n"
     ]
    }
   ],
   "source": [
    "import socket\n",
    "\n",
    "url = input()\n",
    "\n",
    "extensionFile = open('servConfig/extension.txt','r')\n",
    "extensionDict = {}\n",
    "for line in extensionFile:\n",
    "    keyValue = line.split()\n",
    "    extensionDict[keyValue[1]] = keyValue[0]\n",
    "    "
   ]
  },
  {
   "cell_type": "code",
   "execution_count": 2,
   "metadata": {},
   "outputs": [],
   "source": [
    "if url.find('/') < 0:\n",
    "    url = url + '/'\n",
    "    "
   ]
  },
  {
   "cell_type": "code",
   "execution_count": 3,
   "metadata": {},
   "outputs": [],
   "source": [
    "indexOf = url.find('/')\n",
    "host = url[:indexOf]\n",
    "getOperation = url[indexOf:]"
   ]
  },
  {
   "cell_type": "code",
   "execution_count": 4,
   "metadata": {},
   "outputs": [],
   "source": [
    "fileExtension = ''"
   ]
  },
  {
   "cell_type": "code",
   "execution_count": 5,
   "metadata": {},
   "outputs": [],
   "source": [
    "\n",
    "if(getOperation == '/'):\n",
    "    fileExtension = '.html'\n",
    "\n",
    "    \n",
    "else:\n",
    "    indexOfPoint = getOperation.rfind('.')\n",
    "    if (indexOfPoint < 0):\n",
    "        fileExtension = '.html'\n",
    "    else:\n",
    "        fileExtension = getOperation[indexOfPoint:]\n",
    "\n",
    "operation = 'GET ' + getOperation+ ' HTTP/1.1\\r\\n'\n",
    "\n",
    "request = {\n",
    "    'Host: ' : host,\n",
    "    'Connection: ' : 'keep-alive',\n",
    "    'Upgrade-Insecure-Requests: ' : '1',\n",
    "    'User-Agent: ' : 'jaoClient',\n",
    "    'Acept-Encoding: ' : 'gzir, deflate, br',\n",
    "    'Accept-Language: ' : 'en-US,en;q=0.9,pt-BR;q=0.8,pt;q=0.7',\n",
    "}"
   ]
  },
  {
   "cell_type": "code",
   "execution_count": 6,
   "metadata": {},
   "outputs": [],
   "source": [
    "HOST = host.split(':')[0]\n",
    "try :\n",
    "    PORT = host.split(':')[1]\n",
    "except:\n",
    "    PORT = 80\n",
    "    \n",
    "addr = ((HOST,int(PORT)))"
   ]
  },
  {
   "cell_type": "code",
   "execution_count": 7,
   "metadata": {},
   "outputs": [],
   "source": [
    "client_socket = socket.socket(socket.AF_INET, socket.SOCK_STREAM) \n",
    "client_socket.connect(addr)"
   ]
  },
  {
   "cell_type": "code",
   "execution_count": 8,
   "metadata": {},
   "outputs": [],
   "source": [
    "stringRequest = operation\n",
    "for k,v in request.items():\n",
    "    stringRequest = stringRequest+ k + v + '\\n'"
   ]
  },
  {
   "cell_type": "code",
   "execution_count": 9,
   "metadata": {},
   "outputs": [
    {
     "data": {
      "text/plain": [
       "207"
      ]
     },
     "execution_count": 9,
     "metadata": {},
     "output_type": "execute_result"
    }
   ],
   "source": [
    "client_socket.send(stringRequest.encode()) "
   ]
  },
  {
   "cell_type": "code",
   "execution_count": 10,
   "metadata": {},
   "outputs": [],
   "source": [
    "total_data=[]\n",
    "while True:\n",
    "    data = client_socket.recv(8192)\n",
    "    if not data: break\n",
    "    total_data.append(data)\n",
    "response = b''.join(total_data)"
   ]
  },
  {
   "cell_type": "code",
   "execution_count": 11,
   "metadata": {},
   "outputs": [],
   "source": [
    "header = response.decode(errors=\"ignore\")\n",
    "header = header[:header.rfind('\\r\\n\\r\\n')]"
   ]
  },
  {
   "cell_type": "code",
   "execution_count": 12,
   "metadata": {},
   "outputs": [
    {
     "name": "stdout",
     "output_type": "stream",
     "text": [
      "\n"
     ]
    }
   ],
   "source": [
    "headerSplit = header.split('\\r\\n')\n",
    "status = headerSplit[0]\n",
    "del(headerSplit[0])\n",
    "print(status)\n",
    "\n",
    "headerDict = {}\n",
    "for line in headerSplit:\n",
    "    keyValue = line.split(': ')\n",
    "    try:\n",
    "        headerDict[keyValue[0]] = keyValue[1]\n",
    "    except:\n",
    "        break"
   ]
  },
  {
   "cell_type": "code",
   "execution_count": 13,
   "metadata": {},
   "outputs": [],
   "source": [
    "saveBinFile = response[len(header)+4:]"
   ]
  },
  {
   "cell_type": "code",
   "execution_count": 14,
   "metadata": {},
   "outputs": [],
   "source": [
    "if getOperation == '/':\n",
    "    fileName= 'Index'\n",
    "else:\n",
    "    indexOfLBar = getOperation.rfind('/')\n",
    "    fileName = getOperation[indexOfLBar:indexOfPoint]\n",
    "    "
   ]
  },
  {
   "cell_type": "code",
   "execution_count": 15,
   "metadata": {},
   "outputs": [],
   "source": [
    "downloadPath = 'downloads/' + fileName + fileExtension"
   ]
  },
  {
   "cell_type": "code",
   "execution_count": 16,
   "metadata": {},
   "outputs": [
    {
     "data": {
      "text/plain": [
       "'/tp1'"
      ]
     },
     "execution_count": 16,
     "metadata": {},
     "output_type": "execute_result"
    }
   ],
   "source": [
    "fileName"
   ]
  },
  {
   "cell_type": "code",
   "execution_count": 17,
   "metadata": {},
   "outputs": [
    {
     "ename": "IndexError",
     "evalue": "list index out of range",
     "output_type": "error",
     "traceback": [
      "\u001b[1;31m---------------------------------------------------------------------------\u001b[0m",
      "\u001b[1;31mIndexError\u001b[0m                                Traceback (most recent call last)",
      "\u001b[1;32m<ipython-input-17-2e856cf958a3>\u001b[0m in \u001b[0;36m<module>\u001b[1;34m()\u001b[0m\n\u001b[1;32m----> 1\u001b[1;33m \u001b[1;32mif\u001b[0m \u001b[0mstatus\u001b[0m\u001b[1;33m.\u001b[0m\u001b[0msplit\u001b[0m\u001b[1;33m(\u001b[0m\u001b[1;33m)\u001b[0m\u001b[1;33m[\u001b[0m\u001b[1;36m1\u001b[0m\u001b[1;33m]\u001b[0m \u001b[1;33m==\u001b[0m \u001b[1;34m'200'\u001b[0m\u001b[1;33m:\u001b[0m\u001b[1;33m\u001b[0m\u001b[0m\n\u001b[0m\u001b[0;32m      2\u001b[0m     \u001b[0mdownload\u001b[0m \u001b[1;33m=\u001b[0m \u001b[1;32mNone\u001b[0m\u001b[1;33m\u001b[0m\u001b[0m\n\u001b[0;32m      3\u001b[0m     \u001b[1;32mif\u001b[0m \u001b[0mheaderDict\u001b[0m\u001b[1;33m[\u001b[0m\u001b[1;34m'Content-Type'\u001b[0m\u001b[1;33m]\u001b[0m \u001b[1;33m!=\u001b[0m \u001b[1;34m'text/html'\u001b[0m\u001b[1;33m:\u001b[0m\u001b[1;33m\u001b[0m\u001b[0m\n\u001b[0;32m      4\u001b[0m         \u001b[0mdownload\u001b[0m \u001b[1;33m=\u001b[0m \u001b[0mopen\u001b[0m\u001b[1;33m(\u001b[0m\u001b[0mdownloadPath\u001b[0m\u001b[1;33m,\u001b[0m\u001b[1;34m'wb'\u001b[0m\u001b[1;33m)\u001b[0m\u001b[1;33m\u001b[0m\u001b[0m\n\u001b[0;32m      5\u001b[0m         \u001b[0mdownload\u001b[0m\u001b[1;33m.\u001b[0m\u001b[0mwrite\u001b[0m\u001b[1;33m(\u001b[0m\u001b[0msaveBinFile\u001b[0m\u001b[1;33m)\u001b[0m\u001b[1;33m\u001b[0m\u001b[0m\n",
      "\u001b[1;31mIndexError\u001b[0m: list index out of range"
     ]
    }
   ],
   "source": [
    "if status.split()[1] == '200':\n",
    "    download = None \n",
    "    if headerDict['Content-Type'] != 'text/html':\n",
    "        download = open(downloadPath,'wb')\n",
    "        download.write(saveBinFile)\n",
    "        download.close()\n",
    "    else:\n",
    "        download = open(downloadPath,'w')\n",
    "        decodeFile = saveBinFile.decode()\n",
    "        download.write(decodeFile)\n",
    "        download.close()\n",
    "else:\n",
    "    print('erro ao processar a requisição do arquivo')\n",
    "   "
   ]
  },
  {
   "cell_type": "code",
   "execution_count": null,
   "metadata": {},
   "outputs": [],
   "source": []
  },
  {
   "cell_type": "code",
   "execution_count": null,
   "metadata": {},
   "outputs": [],
   "source": []
  }
 ],
 "metadata": {
  "kernelspec": {
   "display_name": "Python 3",
   "language": "python",
   "name": "python3"
  },
  "language_info": {
   "codemirror_mode": {
    "name": "ipython",
    "version": 3
   },
   "file_extension": ".py",
   "mimetype": "text/x-python",
   "name": "python",
   "nbconvert_exporter": "python",
   "pygments_lexer": "ipython3",
   "version": "3.6.4"
  }
 },
 "nbformat": 4,
 "nbformat_minor": 2
}
