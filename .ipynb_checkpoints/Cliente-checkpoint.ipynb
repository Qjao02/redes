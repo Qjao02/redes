{
 "cells": [
  {
   "cell_type": "code",
   "execution_count": 1,
   "metadata": {},
   "outputs": [
    {
     "name": "stdout",
     "output_type": "stream",
     "text": [
      "10.0.0.248:7000/Mort.png\n"
     ]
    }
   ],
   "source": [
    "import socket\n",
    "\n",
    "url = input()\n",
    "\n",
    "extensionFile = open('servConfig/extension.txt','r')\n",
    "extensionDict = {}\n",
    "for line in extensionFile:\n",
    "    keyValue = line.split()\n",
    "    extensionDict[keyValue[1]] = keyValue[0]\n",
    "    "
   ]
  },
  {
   "cell_type": "code",
   "execution_count": 2,
   "metadata": {},
   "outputs": [],
   "source": [
    "if url.find('/') < 0:\n",
    "    url = url + '/'\n",
    "    "
   ]
  },
  {
   "cell_type": "code",
   "execution_count": 3,
   "metadata": {},
   "outputs": [],
   "source": [
    "indexOf = url.find('/')\n",
    "host = url[:indexOf]\n",
    "getOperation = url[indexOf:]"
   ]
  },
  {
   "cell_type": "code",
   "execution_count": 4,
   "metadata": {},
   "outputs": [],
   "source": [
    "\n",
    "fileExtension = ''\n"
   ]
  },
  {
   "cell_type": "code",
   "execution_count": 5,
   "metadata": {},
   "outputs": [
    {
     "data": {
      "text/plain": [
       "'10.0.0.248:7000'"
      ]
     },
     "execution_count": 5,
     "metadata": {},
     "output_type": "execute_result"
    }
   ],
   "source": [
    "host"
   ]
  },
  {
   "cell_type": "code",
   "execution_count": 6,
   "metadata": {},
   "outputs": [
    {
     "data": {
      "text/plain": [
       "'/Mort.png'"
      ]
     },
     "execution_count": 6,
     "metadata": {},
     "output_type": "execute_result"
    }
   ],
   "source": [
    "getOperation"
   ]
  },
  {
   "cell_type": "code",
   "execution_count": null,
   "metadata": {},
   "outputs": [],
   "source": []
  },
  {
   "cell_type": "code",
   "execution_count": null,
   "metadata": {},
   "outputs": [],
   "source": []
  },
  {
   "cell_type": "code",
   "execution_count": 7,
   "metadata": {},
   "outputs": [],
   "source": [
    "\n",
    "if(getOperation == '/'):\n",
    "    fileExtension = '.html'\n",
    "\n",
    "    \n",
    "else:\n",
    "    indexOfPoint = getOperation.rfind('.')\n",
    "    if (indexOfPoint < 0):\n",
    "        fileExtension = '.html'\n",
    "    else:\n",
    "        fileExtension = getOperation[indexOfPoint:]\n",
    "\n",
    "operation = 'GET ' + getOperation+ ' HTTP/1.1\\r\\n'\n",
    "\n",
    "request = {\n",
    "    'Host: ' : host,\n",
    "    'Connection: ' : 'keep-alive',\n",
    "    'Upgrade-Insecure-Requests: ' : '1',\n",
    "    'User-Agent: ' : 'jaoClient',\n",
    "    'Acept-Encoding: ' : 'gzir, deflate, br',\n",
    "    'Accept-Language: ' : 'en-US,en;q=0.9,pt-BR;q=0.8,pt;q=0.7',\n",
    "}"
   ]
  },
  {
   "cell_type": "code",
   "execution_count": 8,
   "metadata": {},
   "outputs": [
    {
     "data": {
      "text/plain": [
       "'.png'"
      ]
     },
     "execution_count": 8,
     "metadata": {},
     "output_type": "execute_result"
    }
   ],
   "source": [
    "fileExtension"
   ]
  },
  {
   "cell_type": "code",
   "execution_count": 9,
   "metadata": {},
   "outputs": [
    {
     "data": {
      "text/plain": [
       "'GET /Mort.png HTTP/1.1\\r\\n'"
      ]
     },
     "execution_count": 9,
     "metadata": {},
     "output_type": "execute_result"
    }
   ],
   "source": [
    "operation"
   ]
  },
  {
   "cell_type": "code",
   "execution_count": 10,
   "metadata": {},
   "outputs": [],
   "source": [
    "HOST = host.split(':')[0]\n",
    "try :\n",
    "    PORT = host.split(':')[1]\n",
    "except:\n",
    "    PORT = 80\n",
    "    \n",
    "addr = ((HOST,int(PORT)))"
   ]
  },
  {
   "cell_type": "code",
   "execution_count": 11,
   "metadata": {},
   "outputs": [
    {
     "data": {
      "text/plain": [
       "'10.0.0.248'"
      ]
     },
     "execution_count": 11,
     "metadata": {},
     "output_type": "execute_result"
    }
   ],
   "source": [
    "HOST"
   ]
  },
  {
   "cell_type": "code",
   "execution_count": 12,
   "metadata": {},
   "outputs": [
    {
     "data": {
      "text/plain": [
       "'7000'"
      ]
     },
     "execution_count": 12,
     "metadata": {},
     "output_type": "execute_result"
    }
   ],
   "source": [
    "PORT"
   ]
  },
  {
   "cell_type": "code",
   "execution_count": 13,
   "metadata": {},
   "outputs": [],
   "source": [
    "client_socket = socket.socket(socket.AF_INET, socket.SOCK_STREAM) \n",
    "client_socket.connect(addr)"
   ]
  },
  {
   "cell_type": "code",
   "execution_count": 14,
   "metadata": {},
   "outputs": [],
   "source": [
    "stringRequest = operation\n",
    "for k,v in request.items():\n",
    "    stringRequest = stringRequest+ k + v + '\\n'"
   ]
  },
  {
   "cell_type": "code",
   "execution_count": 15,
   "metadata": {},
   "outputs": [
    {
     "data": {
      "text/plain": [
       "'GET /Mort.png HTTP/1.1\\r\\nHost: 10.0.0.248:7000\\nConnection: keep-alive\\nUpgrade-Insecure-Requests: 1\\nUser-Agent: jaoClient\\nAcept-Encoding: gzir, deflate, br\\nAccept-Language: en-US,en;q=0.9,pt-BR;q=0.8,pt;q=0.7\\n'"
      ]
     },
     "execution_count": 15,
     "metadata": {},
     "output_type": "execute_result"
    }
   ],
   "source": [
    "stringRequest"
   ]
  },
  {
   "cell_type": "code",
   "execution_count": 16,
   "metadata": {},
   "outputs": [
    {
     "data": {
      "text/plain": [
       "207"
      ]
     },
     "execution_count": 16,
     "metadata": {},
     "output_type": "execute_result"
    }
   ],
   "source": [
    "client_socket.send(stringRequest.encode()) "
   ]
  },
  {
   "cell_type": "code",
   "execution_count": 17,
   "metadata": {},
   "outputs": [],
   "source": [
    "response, addr = client_socket.recvfrom(1048576)\n",
    "    "
   ]
  },
  {
   "cell_type": "code",
   "execution_count": 18,
   "metadata": {},
   "outputs": [
    {
     "data": {
      "text/plain": [
       "b'\\nHTTP/1.1 200 ok! \\r\\nLocation: http://localhost:7000/\\r\\ndate: 2018-04-09 00:31:11.587734\\r\\nServer: jaoserver\\r\\nContent-Type: image/png\\r\\nContent-Length: 233721\\r\\n\\r\\n\\x89PNG\\r\\n\\x1a\\n\\x00\\x00\\x00\\rIHDR\\x00\\x00\\x01\\xb2\\x00\\x00\\x01U\\x08\\x06\\x00\\x00\\x00\\x8a2j&\\x00\\x00\\x00\\x04gAMA\\x00\\x00\\xb1\\x8f\\x0b\\xfca\\x05\\x00\\x00\\x00\\x06bKGD\\x00\\xff\\x00\\xff\\x00\\xff\\xa0\\xbd\\xa7\\x93\\x00\\x00\\x00\\tpHYs\\x00\\x00\\x0b\\x12\\x00\\x00\\x0b\\x12\\x01\\xd2\\xdd~\\xfc\\x00\\x00\\x00\\tvpAg\\x00\\x00\\x01\\xb2\\x00\\x00\\x01U\\x00\"\\xa9\\xc7\\xe5\\x00\\x00\\x80\\x00IDATx\\xda\\xec\\xddy\\xb8eW]\\'\\xfc\\xef\\x9a\\xf6|\\xc6;\\xdf\\x9a+Ie\\x0eC\\x900\\x87\\x19dF\\xac(\\xc8\\xa0\\xa2\\xd0\\x82\\x8aH\\xa3\\xd8\\xdaou)*6FE\\xd4n\\xb0\\x11A|\\xb1\\xabZQ\\x84\\x08\"\\x86\\x08\\x841\\x0c\\x99+\\x95\\xd4\\\\w<\\xf7\\x8c{Z\\xf3\\xfb\\xc7\\r\\xbc\\xe8c+\\x8d\\xad\\tr>\\xcfS\\x7f\\xdc{\\xf6\\xd9\\xcf9{\\xaf]\\xbf\\xbb\\xd6\\xfa\\xad\\xdf\\x02\\xa6\\xa6\\xa6\\xa6\\xbe\\x03|\\xf4\\xad/M\\xbf\\xf8\\x8eW\\x89\\x07\\xfasLMMMMM}K>\\xf3\\xeeW\\xec\\xfd\\x87\\xbf;r\\xe4 \\xfb\\x97\\x9c\\xf3\\xc6C\\xd7\\xf2C\\x87@\\x0f\\x1d\\xba\\x96\\x1f9\\xf8/;\\xd7\\xd4\\xb7\\x8e?\\xd0\\x1f`jjj\\xea_\\xdb\\x8d\\xef~E\\xe4\\x89\\xd7_\\xff\\xf9\\xd0\\xb5<X\\xd8\\xd5\\r\\x07I\\x0e\\xa0\\xfcV\\xcf\\xbb\\x85l\\xf7\\xe1\\xc38\\xf1\\xfe\\xffH\\xf7\\x018\\xf5@\\x7f\\xcf\\xefT\\xf4\\x81\\xfe\\x00SSSS\\xff\\xda8\\r\\xe7\\x87\\xa3V\\x0f\\x00\\xbe\\xf8\\x8eW\\x89h\\xe7\\x853D\\x84\\xcd\\xab_\\xf5\\xce\\xea\\x1f\\x1e{\\xc3\\xdb\\x0e\\xce}\\xf0\\x1d\\xafJ\\xfe\\xb9s\\xfe\\xe9\\x9b_\\xb8\\x94\\xc0\\xf6\\xfe\\xfc\\xd7\\x9e\\xb7\\\\\\x90\\xc6\\xc6uG\\x8f\\xda\\x1b\\x0f]\\xcb\\xdf\\xfb\\x86\\xa7\\xa5\\xdfx\\xdc\\xa1C\\xa0\\xbf\\xfe\\xe2\\xabg\\x0f\\x1d\\xbc,\\xf0\\x009t\\xf0\\xb2\\xe0\\xeb\\xe78\\xf4\\xc2\\xf9\\x07\\xfa\\xda\\xfc{0\\rdSSS\\xff\\xeeQAg\\x9e\\xf5\\xba\\xb7K\\x000q\\xb0\\xd3\\x85b\\x8eF<\\xf8\\xf4\\xbb~8\\xbb\\xf9\\x0f_\\xbd\\xe3\\x1b\\x8f\\x8dY\\xb3\\xf5\\xbcW\\xbf\\xf3\\xeb\\xbd\\xb4#\\x07\\x0f\\xb2\\x1b\\xde\\xf6\\xcc\\xf0\\x1b\\x8f9r\\xe4 \\x03\\xc1\\x0c\\xcbf\\xad3\\xf4\"\\x96\\x8c4\\x00\\x0cxgOt\\xa6]\\x7f\\xed\\xb8\\xdfy\\xc5C\\x1e\\xba\\xb0qe+\\xea\\x04\\xe9\\xe1\\xa3w\\xaa\\xdf\\xf9\\x91\\xab.Z\\xee\\xc4\\x1e\\x00\\x8e\\xfc\\xecsv\\x97\\xfd\\xaa\\xc6\\xd4\\xbf\\xd84\\x90MMM\\xfd\\xbbu\\xe4\\xd0\\xc1\\xe0\\xc6w\\xbfb1\\x0c\\xa35`\\xbb7&h\\xe8\\x18%\\xd7H\\xf8\\x01KHBY>\\xf9\\xda\\xf17\\xbe\\xfb5\\x8bH\\xb3\\xde7\\x9e\\xa3\\xfb\\xa8x1n.\\x90o\\xfc]\\xe3\\x04\\xbb\\xc4*~\\x8f1\\xea\\x99\\x8c\\x88\\xf3?t\\xf8\\xa6\\xfa#\\xd7\\x1f\\xec2c\\xc9uG\\x8fZ\\x00\\xf8\\xc0\\xaf\\xff\\xe0\\xae\\x99];\\xa4\\x00_|\\xed\\xef}\\xe6\\xcc\\xbb~\\xea\\x11\\xfb[5\\xce\\xbf\\xfa\\x9d\\xb7\\xe8\\xb7\\xff\\xf0\\xc3\\x96\\x8d\\xab\\xcd\\xcb\\xde\\xfe\\x91\\xf1?\\xfb\\x1d\\x0e\\xe2\\xebso\\xbf\\xf1\\xaa\\xab\\x97\\x1e\\xe8k\\xfa`4\\rdSSS\\x0f\\x1a\\x1e 7_\\xff\\xfa\\xf8\\x9f;\\xee\\x93\\x7f|h\\xff7s\\xbe\\xb9\\xb9\\xa4\\xcb5\\xf6\\xa2W\\xf6\\xbet\\xe4\\xe7\\xe6\\\\\\x96\\xecBHZ\\xde\\xaaUWB\\xc7\\xa4\\xd5z\\xd4\\xcb\\xfe\\xf8\\xeb\\xc1\\x84;\\xba\\xf0\\xa4\\x1fz\\xdb\\xf0\\x8b\\xefxU\\xeb\\x9e\\xb7\\xfdDx\\xc3\\xdb\\x9e\\x19\\x8e\\xfb\\xe3\\xe8I?\\xf4\\x9e\\xfa\\xdd\\x87\\xae\\x8d\\x00\\xe0\\x03\\x87\\x9e\\xdff\\x10\\xae\\xd9\\xe0\\xfbA\\xfd\\\\B\\xb1\\xe9\\x0f\\x1d\\xa2\\xb2\\x16\\x97\\x12\\xf8\\x15\\x00\\xb8\\xf1w^'"
      ]
     },
     "execution_count": 18,
     "metadata": {},
     "output_type": "execute_result"
    }
   ],
   "source": [
    "response"
   ]
  },
  {
   "cell_type": "code",
   "execution_count": null,
   "metadata": {},
   "outputs": [],
   "source": []
  },
  {
   "cell_type": "code",
   "execution_count": 19,
   "metadata": {},
   "outputs": [
    {
     "ename": "NameError",
     "evalue": "name 'rs' is not defined",
     "output_type": "error",
     "traceback": [
      "\u001b[1;31m---------------------------------------------------------------------------\u001b[0m",
      "\u001b[1;31mNameError\u001b[0m                                 Traceback (most recent call last)",
      "\u001b[1;32m<ipython-input-19-e71071369c4f>\u001b[0m in \u001b[0;36m<module>\u001b[1;34m()\u001b[0m\n\u001b[1;32m----> 1\u001b[1;33m \u001b[1;32mdel\u001b[0m\u001b[1;33m(\u001b[0m\u001b[0mrs\u001b[0m\u001b[1;33m[\u001b[0m\u001b[1;36m0\u001b[0m\u001b[1;33m]\u001b[0m\u001b[1;33m)\u001b[0m\u001b[1;33m\u001b[0m\u001b[0m\n\u001b[0m",
      "\u001b[1;31mNameError\u001b[0m: name 'rs' is not defined"
     ]
    }
   ],
   "source": [
    "del(rs[0])"
   ]
  },
  {
   "cell_type": "code",
   "execution_count": null,
   "metadata": {},
   "outputs": [],
   "source": [
    "status = rs[0]"
   ]
  },
  {
   "cell_type": "code",
   "execution_count": null,
   "metadata": {},
   "outputs": [],
   "source": [
    "del(rs[0])"
   ]
  },
  {
   "cell_type": "code",
   "execution_count": null,
   "metadata": {},
   "outputs": [],
   "source": [
    "responseDict = {}\n",
    "headerSize= 0\n",
    "for line in rs:\n",
    "    try: \n",
    "        keyValue = line.split(\": \")\n",
    "        responseDict[keyValue[0]] = keyValue[1]\n",
    "        headerSize = headerSize+1\n",
    "    except:\n",
    "        break\n",
    "\n",
    "del(rs[0:headerSize])\n",
    "        \n",
    "\n"
   ]
  },
  {
   "cell_type": "code",
   "execution_count": null,
   "metadata": {},
   "outputs": [],
   "source": [
    "responseDict"
   ]
  },
  {
   "cell_type": "code",
   "execution_count": null,
   "metadata": {},
   "outputs": [],
   "source": [
    "rs"
   ]
  },
  {
   "cell_type": "code",
   "execution_count": null,
   "metadata": {},
   "outputs": [],
   "source": [
    "if getOperation == '/':\n",
    "    fileName= 'Index'\n",
    "else:\n",
    "    indexOfLBar = getOperation.rfind('/')\n",
    "    fileName = getOperation[indexOfLBar:indexOfPoint]"
   ]
  },
  {
   "cell_type": "code",
   "execution_count": null,
   "metadata": {},
   "outputs": [],
   "source": [
    "downloadPath = 'downloads/' + fileName + fileExtension"
   ]
  },
  {
   "cell_type": "code",
   "execution_count": null,
   "metadata": {},
   "outputs": [],
   "source": [
    "print(status)"
   ]
  },
  {
   "cell_type": "code",
   "execution_count": null,
   "metadata": {},
   "outputs": [],
   "source": [
    "fileName"
   ]
  },
  {
   "cell_type": "code",
   "execution_count": null,
   "metadata": {},
   "outputs": [],
   "source": [
    "if status.split()[1] == '200':\n",
    "    download = open(downloadPath,'w')\n",
    "    for item in rs:\n",
    "        download.write(item)\n",
    "    download.close()\n",
    "else:\n",
    "    print('erro ao processar a requisição do arquivo')"
   ]
  },
  {
   "cell_type": "code",
   "execution_count": null,
   "metadata": {},
   "outputs": [],
   "source": []
  },
  {
   "cell_type": "code",
   "execution_count": null,
   "metadata": {},
   "outputs": [],
   "source": []
  }
 ],
 "metadata": {
  "kernelspec": {
   "display_name": "Python 3",
   "language": "python",
   "name": "python3"
  },
  "language_info": {
   "codemirror_mode": {
    "name": "ipython",
    "version": 3
   },
   "file_extension": ".py",
   "mimetype": "text/x-python",
   "name": "python",
   "nbconvert_exporter": "python",
   "pygments_lexer": "ipython3",
   "version": "3.6.4"
  }
 },
 "nbformat": 4,
 "nbformat_minor": 2
}
